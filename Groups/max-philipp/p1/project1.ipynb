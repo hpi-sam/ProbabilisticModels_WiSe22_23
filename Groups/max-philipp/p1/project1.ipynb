{
 "cells": [
  {
   "cell_type": "code",
   "execution_count": 5,
   "metadata": {},
   "outputs": [],
   "source": [
    "import numpy as np\n",
    "import pandas as pd\n",
    "from tqdm.notebook import tqdm"
   ]
  },
  {
   "cell_type": "code",
   "execution_count": 6,
   "metadata": {},
   "outputs": [
    {
     "data": {
      "text/plain": [
       "array([[0.        , 0.        , 0.        , 0.        , 0.        ,\n",
       "        0.        , 0.        , 0.        , 0.        , 0.        ,\n",
       "        0.        , 0.        , 1.        , 0.        , 0.        ,\n",
       "        0.        , 0.        , 0.        , 0.        ],\n",
       "       [0.        , 0.        , 0.        , 0.        , 0.        ,\n",
       "        0.        , 0.        , 0.        , 0.        , 0.        ,\n",
       "        0.        , 0.        , 0.        , 0.        , 1.        ,\n",
       "        0.        , 0.        , 0.        , 0.        ],\n",
       "       [0.25      , 0.        , 0.        , 0.        , 0.        ,\n",
       "        0.        , 0.        , 0.25      , 0.        , 0.        ,\n",
       "        0.        , 0.25      , 0.25      , 0.        , 0.        ,\n",
       "        0.        , 0.        , 0.        , 0.        ],\n",
       "       [0.        , 1.        , 0.        , 0.        , 0.        ,\n",
       "        0.        , 0.        , 0.        , 0.        , 0.        ,\n",
       "        0.        , 0.        , 0.        , 0.        , 0.        ,\n",
       "        0.        , 0.        , 0.        , 0.        ],\n",
       "       [0.        , 0.        , 0.        , 0.        , 0.        ,\n",
       "        0.        , 0.        , 0.        , 0.        , 0.        ,\n",
       "        0.        , 0.        , 0.        , 1.        , 0.        ,\n",
       "        0.        , 0.        , 0.        , 0.        ],\n",
       "       [0.        , 0.        , 0.        , 0.        , 1.        ,\n",
       "        0.        , 0.        , 0.        , 0.        , 0.        ,\n",
       "        0.        , 0.        , 0.        , 0.        , 0.        ,\n",
       "        0.        , 0.        , 0.        , 0.        ],\n",
       "       [0.        , 0.        , 0.        , 0.        , 0.        ,\n",
       "        0.        , 0.        , 0.        , 0.        , 0.        ,\n",
       "        0.        , 0.        , 0.        , 0.        , 0.        ,\n",
       "        0.        , 0.        , 0.        , 0.98039216],\n",
       "       [0.        , 0.        , 0.        , 0.        , 0.        ,\n",
       "        0.        , 0.        , 0.        , 0.        , 0.        ,\n",
       "        0.        , 0.5       , 0.5       , 0.        , 0.        ,\n",
       "        0.        , 0.        , 0.        , 0.        ],\n",
       "       [0.33      , 0.        , 0.        , 0.        , 0.        ,\n",
       "        0.        , 0.        , 0.        , 0.        , 0.        ,\n",
       "        0.        , 0.34      , 0.33      , 0.        , 0.        ,\n",
       "        0.        , 0.        , 0.        , 0.        ],\n",
       "       [0.        , 0.        , 0.        , 0.        , 0.        ,\n",
       "        0.        , 0.        , 0.        , 0.        , 0.        ,\n",
       "        1.        , 0.        , 0.        , 0.        , 0.        ,\n",
       "        0.        , 0.        , 0.        , 0.        ],\n",
       "       [0.        , 0.        , 0.        , 1.        , 0.        ,\n",
       "        0.        , 0.        , 0.        , 0.        , 0.        ,\n",
       "        0.        , 0.        , 0.        , 0.        , 0.        ,\n",
       "        0.        , 0.        , 0.        , 0.        ],\n",
       "       [0.        , 0.        , 0.        , 0.        , 0.        ,\n",
       "        0.        , 0.        , 0.        , 0.        , 0.        ,\n",
       "        0.        , 0.        , 0.        , 0.        , 0.        ,\n",
       "        0.        , 0.        , 0.        , 0.98039216],\n",
       "       [0.        , 0.        , 0.        , 0.        , 0.        ,\n",
       "        0.        , 0.        , 0.        , 0.        , 1.        ,\n",
       "        0.        , 0.        , 0.        , 0.        , 0.        ,\n",
       "        0.        , 0.        , 0.        , 0.        ],\n",
       "       [0.        , 0.        , 0.        , 0.        , 0.        ,\n",
       "        0.        , 1.        , 0.        , 0.        , 0.        ,\n",
       "        0.        , 0.        , 0.        , 0.        , 0.        ,\n",
       "        0.        , 0.        , 0.        , 0.        ],\n",
       "       [0.        , 0.        , 0.        , 0.        , 0.        ,\n",
       "        0.        , 0.        , 0.        , 0.        , 0.        ,\n",
       "        0.        , 0.        , 0.        , 0.        , 0.        ,\n",
       "        0.        , 1.        , 0.        , 0.        ],\n",
       "       [0.33      , 0.        , 0.        , 0.        , 0.        ,\n",
       "        0.        , 0.        , 0.        , 0.        , 0.        ,\n",
       "        0.        , 0.34      , 0.33      , 0.        , 0.        ,\n",
       "        0.        , 0.        , 0.        , 0.        ],\n",
       "       [0.        , 0.        , 0.        , 0.        , 0.        ,\n",
       "        1.        , 0.        , 0.        , 0.        , 0.        ,\n",
       "        0.        , 0.        , 0.        , 0.        , 0.        ,\n",
       "        0.        , 0.        , 0.        , 0.        ],\n",
       "       [0.33      , 0.        , 0.        , 0.        , 0.        ,\n",
       "        0.        , 0.        , 0.        , 0.        , 0.        ,\n",
       "        0.        , 0.34      , 0.33      , 0.        , 0.        ,\n",
       "        0.        , 0.        , 0.        , 0.        ],\n",
       "       [0.17      , 0.        , 0.17      , 0.        , 0.        ,\n",
       "        0.        , 0.        , 0.17      , 0.17      , 0.        ,\n",
       "        0.        , 0.        , 0.        , 0.        , 0.        ,\n",
       "        0.17      , 0.        , 0.17      , 0.        ]])"
      ]
     },
     "execution_count": 6,
     "metadata": {},
     "output_type": "execute_result"
    }
   ],
   "source": [
    "df = pd.read_csv('mRubis_Transition_Matrix.csv')\n",
    "walk_matrix = df.to_numpy()[:,1:-1].astype(float) \n",
    "walk_matrix /= np.sum(walk_matrix, axis=1)\n",
    "walk_matrix"
   ]
  },
  {
   "cell_type": "code",
   "execution_count": 7,
   "metadata": {},
   "outputs": [],
   "source": [
    "status_transitions = np.array(\n",
    "    [[0.8,0.1,0.1],\n",
    "    [0.1,0.7,0.2],\n",
    "    [0.4,0.1,0.5]]\n",
    ")\n",
    "\n",
    "component_transitions = np.array(\n",
    "    [[0.3,0.7],\n",
    "    [1.0,0.0]]\n",
    ")"
   ]
  },
  {
   "cell_type": "code",
   "execution_count": 8,
   "metadata": {},
   "outputs": [],
   "source": [
    "def print_state(current_component, current_status):\n",
    "    status_descriptor = \"S\"\n",
    "    status_mapping = {0: \"o\", 1: \"d\", 2:\"u\"}\n",
    "    status_descriptor += status_mapping[current_status]\n",
    "    status_descriptor += str(current_component)\n",
    "    return status_descriptor"
   ]
  },
  {
   "cell_type": "code",
   "execution_count": 9,
   "metadata": {},
   "outputs": [
    {
     "data": {
      "application/vnd.jupyter.widget-view+json": {
       "model_id": "3c880d79707949a68a45be4a879a15c4",
       "version_major": 2,
       "version_minor": 0
      },
      "text/plain": [
       "  0%|          | 0/1000 [00:00<?, ?it/s]"
      ]
     },
     "metadata": {},
     "output_type": "display_data"
    }
   ],
   "source": [
    "walk_length = 1000\n",
    "num_walks = 1000\n",
    "walks = []\n",
    "for _ in tqdm(range(num_walks)):\n",
    "    walk = []\n",
    "    current_component = np.random.choice(range(19))\n",
    "    current_status = np.random.choice(range(3))\n",
    "\n",
    "    # print_state creates a string identifying the state and the failure status\n",
    "    # Example: Component one is unavailable = \"Su1\"\n",
    "    walk.append(print_state(current_component, current_status))\n",
    "\n",
    "    for _ in range(walk_length-1):\n",
    "        # Sample new failure status\n",
    "        new_status = np.random.choice(range(3), p=status_transitions[current_status])\n",
    "\n",
    "        # Sample if component changes\n",
    "        no_status_change = int(current_status==new_status)\n",
    "        stay_in_component = (1 == np.random.choice(range(2), p=component_transitions[no_status_change]))\n",
    "\n",
    "        if stay_in_component:\n",
    "            new_component = current_component\n",
    "        else:\n",
    "            # Sample new component given transition matrix\n",
    "            new_component = np.random.choice(\n",
    "                range(19),\n",
    "                # Account for floating point error in transition matrix\n",
    "                p=walk_matrix[current_component]/np.sum(walk_matrix[current_component])\n",
    "            )\n",
    "        current_status = new_status\n",
    "        current_component = new_component\n",
    "        walk.append(print_state(current_component, current_status))\n",
    "    walks.append(walk)\n",
    "    "
   ]
  },
  {
   "cell_type": "code",
   "execution_count": 10,
   "metadata": {},
   "outputs": [
    {
     "data": {
      "text/plain": [
       "array([[0., 0., 0., ..., 0., 0., 0.],\n",
       "       [0., 0., 0., ..., 0., 0., 0.],\n",
       "       [0., 0., 0., ..., 0., 0., 0.],\n",
       "       ...,\n",
       "       [0., 0., 0., ..., 0., 0., 0.],\n",
       "       [0., 0., 0., ..., 0., 0., 0.],\n",
       "       [0., 0., 0., ..., 0., 0., 0.]])"
      ]
     },
     "execution_count": 10,
     "metadata": {},
     "output_type": "execute_result"
    }
   ],
   "source": [
    "transition_matrix = np.zeros((19*3, 19*3))\n",
    "transition_matrix"
   ]
  },
  {
   "cell_type": "code",
   "execution_count": 11,
   "metadata": {},
   "outputs": [],
   "source": [
    "for walk in walks:\n",
    "    new_state = walk[0]\n",
    "\n",
    "    reverse_status_mapping = {'o': 0, 'd': 1, 'u': 2}\n",
    "    component = int(new_state[2:])\n",
    "    status = reverse_status_mapping[new_state[1]]\n",
    "    state = (3 * component) + status\n",
    "\n",
    "    for new_state in walk[1:]:\n",
    "        component = int(new_state[2:])\n",
    "        \n",
    "        status = reverse_status_mapping[new_state[1]]\n",
    "        new_state = (3 * component) + status\n",
    "        transition_matrix[state][new_state] += 1\n",
    "        state = new_state\n",
    "\n",
    "sums = np.sum(transition_matrix, axis=1)\n",
    "sums[sums == 0] = 1\n",
    "transition_matrix = (transition_matrix.T / sums ).T"
   ]
  },
  {
   "cell_type": "code",
   "execution_count": 13,
   "metadata": {},
   "outputs": [],
   "source": [
    "np.savetxt(\"DTMC.csv\", transition_matrix, delimiter=\",\")"
   ]
  },
  {
   "cell_type": "code",
   "execution_count": 12,
   "metadata": {},
   "outputs": [
    {
     "data": {
      "text/plain": [
       "array([0.01754386, 0.01754386, 0.01754386, 0.01754386, 0.01754386,\n",
       "       0.01754386, 0.01754386, 0.01754386, 0.01754386, 0.01754386,\n",
       "       0.01754386, 0.01754386, 0.01754386, 0.01754386, 0.01754386,\n",
       "       0.01754386, 0.01754386, 0.01754386, 0.01754386, 0.01754386,\n",
       "       0.01754386, 0.01754386, 0.01754386, 0.01754386, 0.01754386,\n",
       "       0.01754386, 0.01754386, 0.01754386, 0.01754386, 0.01754386,\n",
       "       0.01754386, 0.01754386, 0.01754386, 0.01754386, 0.01754386,\n",
       "       0.01754386, 0.01754386, 0.01754386, 0.01754386, 0.01754386,\n",
       "       0.01754386, 0.01754386, 0.01754386, 0.01754386, 0.01754386,\n",
       "       0.01754386, 0.01754386, 0.01754386, 0.01754386, 0.01754386,\n",
       "       0.01754386, 0.01754386, 0.01754386, 0.01754386, 0.01754386,\n",
       "       0.01754386, 0.01754386])"
      ]
     },
     "execution_count": 12,
     "metadata": {},
     "output_type": "execute_result"
    }
   ],
   "source": [
    "#Steady state\n",
    "val, vec  = np.linalg.eig(transition_matrix)\n",
    "#find index of egenvalue 1\n",
    "index = np.where(val - 1 < 0.001)[0][0]\n",
    "steady_state = (vec.T[index] / np.sum(vec.T[index])).real\n",
    "steady_state"
   ]
  },
  {
   "cell_type": "markdown",
   "metadata": {},
   "source": [
    "Q: What is the probability of seeing a failure cascade that affects only component 1?\n",
    "\n",
    "$P = \\sum_{\\text{Component} X}: \\left( P(So_X) * P(Sd_1 \\mid So_X) * P(Su_1 \\mid Sd_1) * \\sum_{Component Y} \\left( P(So_Y \\mid Su_1) \\right) \\right) + \\sum_{\\text{Component} X}: \\left( P(So_X) * P(Su_1 \\mid So_X) * P(Sd_1 \\mid Su_1) * \\sum_{Component Y} \\left( P(So_Y \\mid Sd_1) \\right) \\right)$"
   ]
  },
  {
   "cell_type": "code",
   "execution_count": 97,
   "metadata": {},
   "outputs": [
    {
     "name": "stdout",
     "output_type": "stream",
     "text": [
      "0.00012797968339022848\n"
     ]
    }
   ],
   "source": [
    "#Question 1\n",
    "# Formula for 2 components\n",
    "# Sum for all Componens X: P(SoX) * P(Sd1 | SoX) * (Su1 | Sd1) * ( P(So1 | Su1) + P(So2 | Su1) ) + P(SoX) * P(Su1 | SoX) * (Sd1 | Su1) * ( P(So1 | Sd1) + P(So2 | Sd1) )\n",
    "\n",
    "P_d_to_u = 0\n",
    "for idx in range(19):\n",
    "    idx *= 3\n",
    "    P_SoX = steady_state[idx]\n",
    "    P_SdX_SoX = transition_matrix[idx][1]\n",
    "    P_SuX_SdX = transition_matrix[1][2]\n",
    "    P_SoY_SuX = 0\n",
    "    for idx_2 in range(19):\n",
    "        idx_2 *= 3\n",
    "        P_SoY_SuX += transition_matrix[2][idx_2]\n",
    "    P_d_to_u += P_SoX * P_SdX_SoX * P_SuX_SdX * P_SoY_SuX\n",
    "\n",
    "P_u_to_d = 0\n",
    "for idx in range(19):\n",
    "    idx *= 3\n",
    "    P_SoX = steady_state[idx]\n",
    "    P_SuX_SoX = transition_matrix[idx][2]\n",
    "    P_SdX_SuX = transition_matrix[2][1]\n",
    "    P_SoY_SdX = 0\n",
    "    for idx_2 in range(19):\n",
    "        idx_2 *= 3\n",
    "        P_SoY_SdX += transition_matrix[1][idx_2]\n",
    "    P_u_to_d += P_SoX * P_SuX_SoX * P_SdX_SuX * P_SoY_SdX\n",
    "\n",
    "P = P_d_to_u + P_u_to_d\n",
    "print(P)\n",
    "    "
   ]
  },
  {
   "cell_type": "markdown",
   "metadata": {},
   "source": [
    "Q: What is the probability of seeing a failure cascade that affects component 2?\n",
    "\n",
    "To answer this question we divide the probability calculation into three parts:\n",
    "1. Probability that a cascade only effects component 2 $P_1$\n",
    "2. Probability that a cascade enters component 2 $P_2$\n",
    "3. Probability that a cascade starts in and leaves component 2 $P_3$\n",
    "\n",
    "\n",
    "\n",
    "$P_1 = \\sum_{\\text{Component} X}: \\left( P(So_X) * P(Sd_2 \\mid So_X) * P(Su_2 \\mid Sd_2) * \\sum_{Component Y} \\left( P(So_Y \\mid Su_1) \\right) \\right) + \\sum_{\\text{Component} X}: \\left( P(So_X) * P(Su_2 \\mid So_X) * P(Sd_2 \\mid Su_2) * \\sum_{Component Y} \\left( P(So_Y \\mid Sd_2) \\right) \\right)$\n",
    "\n",
    "$P_2 = \\sum_{\\text{Component} X}: P(Sd_X) * P(Sd_2 | Sd_X) + P(Su_X) * P(Sd_2 | Su_X) + P(Sd_X) * P(Su_2 | Sd_X) + P(Su_X) * P(Su_2 | Su_X)$\n",
    "\n",
    "$$\n",
    "\\begin{align*}\n",
    "    P_3 = \\sum_{\\text{Component} X}: &P(So_X) * P(Sd_2 | So_X) * \\sum_{Component Y}(P(Sd_Y | Sd_2) + P(Su_Y | Sd_2)) \\\\\n",
    "    &+ P(So_X) * P(Su_2 | So_X) * \\sum_{Component Y}(P(Sd_Y | Su_2) + P(Su_Y | Su_2)) \\\\\n",
    "    &+ P(So_X) * P(Su_2 | So_X) * P(Sd_2 | Su_2) * \\sum_{Component Y}(P(Sd_Y | Sd_2) + P(Su_Y | Sd_2)) \\\\\n",
    "    &+ P(So_X) * P(Sd_2 | So_X) * P(Su_2 | Sd_2) * \\sum_{Component Y}(P(Sd_Y | Su_2) + P(Su_Y | Su_2)) \\\\\n",
    "\\end{align*}\n",
    "$$\n",
    "\n",
    "$P = P_1 + P_2 + P_3$"
   ]
  },
  {
   "cell_type": "code",
   "execution_count": 98,
   "metadata": {},
   "outputs": [
    {
     "name": "stdout",
     "output_type": "stream",
     "text": [
      "0.023368340936168647\n"
     ]
    }
   ],
   "source": [
    "# Question 2\n",
    "# Cascade only on Component 2:\n",
    "\n",
    "P_d_to_u = 0\n",
    "for idx in range(19):\n",
    "    idx *= 3\n",
    "    P_SoX = steady_state[idx]\n",
    "    P_SdX_SoX = transition_matrix[idx][3+1]\n",
    "    P_SuX_SdX = transition_matrix[3+1][3+2]\n",
    "    P_SoY_SuX = 0\n",
    "    for idx_2 in range(19):\n",
    "        idx_2 *= 3\n",
    "        P_SoY_SuX += transition_matrix[3+2][idx_2]\n",
    "    P_d_to_u += P_SoX * P_SdX_SoX * P_SuX_SdX * P_SoY_SuX\n",
    "\n",
    "P_u_to_d = 0\n",
    "for idx in range(19):\n",
    "    idx *= 3\n",
    "    P_SoX = steady_state[idx]\n",
    "    P_SuX_SoX = transition_matrix[idx][3+2]\n",
    "    P_SdX_SuX = transition_matrix[3+2][3+1]\n",
    "    P_SoY_SdX = 0\n",
    "    for idx_2 in range(19):\n",
    "        idx_2 *= 3\n",
    "        P_SoY_SdX += transition_matrix[3+1][idx_2]\n",
    "    P_u_to_d += P_SoX * P_SuX_SoX * P_SdX_SuX * P_SoY_SdX\n",
    "\n",
    "P_cascade_only_in_component_2 = P_d_to_u + P_u_to_d\n",
    "\n",
    "# Cascade from any component to component 2:\n",
    "P_X_to_2 = 0\n",
    "for idx in range(19):\n",
    "    if idx == 1:\n",
    "        continue\n",
    "    idx *= 3\n",
    "    # P(SdX) * P(Sd2 | SdX) + P(SuX) * P(Sd2 | SuX) + P(SdX) * P(Su2 | SdX) + P(SuX) * P(Su2 | SuX)\n",
    "    P_Sd2_SdX = steady_state[idx+1] * transition_matrix[idx+1][4]\n",
    "    P_Su2_SdX = steady_state[idx+1] * transition_matrix[idx+1][5]\n",
    "    P_Sd2_SuX = steady_state[idx+2] * transition_matrix[idx+2][4]\n",
    "    P_Su2_SuX = steady_state[idx+2] * transition_matrix[idx+2][5]\n",
    "\n",
    "    P_X_to_2 += P_Sd2_SdX + P_Su2_SdX + P_Sd2_SuX + P_Su2_SuX\n",
    "\n",
    "# Cascade fomr component 2 to any other component\n",
    "\n",
    "P_2_to_X = 0\n",
    "\n",
    "for idx in range(19):\n",
    "    if idx == 1:\n",
    "        continue\n",
    "    idx *= 3\n",
    "    # P(SoX) * P(Sd2 | SoX) * (P(SdY | Sd2) + P(SuY | Sd2)) + \n",
    "    # P(SoX) * P(Su2 | SoX) * (P(SdY | Su2) + P(SuY | Su2)) + \n",
    "    # P(SoX) * P(Su2 | SoX) + P(Sd2 | Su2) * (P(SdY | Sd2) + P(SuY | Sd2)) + \n",
    "    # P(SoX) * P(Sd2 | SoX) + P(Su2 | Sd2) * (P(SdY | Su2) + P(SuY | Su2)) + \n",
    "    P_SoX = steady_state[idx]\n",
    "    P_Sd2_SoX = transition_matrix[idx][4]\n",
    "    P_Su2_SoX = transition_matrix[idx][5]\n",
    "    P_Su2_Sd2 = transition_matrix[4][5]\n",
    "    P_Sd2_Su2 = transition_matrix[5][4]\n",
    "    P_SfY_Sd2 = 0\n",
    "    P_SfY_Su2 = 0\n",
    "    for idx_2 in range(19):\n",
    "        if idx_2 == 1:\n",
    "            continue\n",
    "        idx_2 *= 3\n",
    "        P_SfY_Sd2 += transition_matrix[4][idx_2+1] + transition_matrix[4][idx_2+2]\n",
    "        P_SfY_Su2 += transition_matrix[5][idx_2+1] + transition_matrix[5][idx_2+2]\n",
    "\n",
    "    P_2_to_X += P_SoX * P_Sd2_SoX * P_SfY_Sd2  +  P_SoX * P_Su2_SoX * P_SfY_Su2  +  P_SoX * P_Su2_SoX * P_Sd2_Su2 * P_SfY_Sd2  +  P_SoX * P_Sd2_SoX * P_Su2_Sd2 * P_SfY_Su2\n",
    "\n",
    "P = P_cascade_only_in_component_2 + P_X_to_2 + P_2_to_X\n",
    "print(P)\n"
   ]
  },
  {
   "cell_type": "markdown",
   "metadata": {},
   "source": [
    "Q: What is the probability of seeing a failure masking? P(𝑆𝑢_1;𝑆𝑢_2;𝑆𝑜_1)\n",
    "\n",
    "$P = \\sum_{\\text{Components} X,Y; X \\neq Y} P(Su_X) * P(Su_Y \\mid Su_X) * P(So_X | Su_Y)$"
   ]
  },
  {
   "cell_type": "code",
   "execution_count": 99,
   "metadata": {},
   "outputs": [
    {
     "name": "stdout",
     "output_type": "stream",
     "text": [
      "0.0\n"
     ]
    }
   ],
   "source": [
    "# Question 3\n",
    "# P(SdX) * P(SdY | SdX) * P(SoX | SdY) + P(SdX) * P(SuY | SdX) * P(SoX | SuY) + P(SuX) * P(SdY | SuX) * P(SoX | SdY) + P(SuX) * P(SuY | SuX) * P(SoX | SuY)\n",
    "# For only unavailable\n",
    "# P(SuX) * P(SuY | SuX) * P(SoX | SuY)\n",
    "\n",
    "P_failure masking = 0\n",
    "\n",
    "for idx in range(19):\n",
    "    idx *= 3\n",
    "    #P_SdX = steady_state[idx+1]\n",
    "    P_SuX = steady_state[idx+2]\n",
    "\n",
    "    for idx_2 in range(19):\n",
    "        idx_2 *= 3\n",
    "        if idx_2 == idx:\n",
    "            continue\n",
    "\n",
    "        #P_SdY_SdX = transition_matrix[idx+1][idx_2+1]\n",
    "        #P_SdY_SuX = transition_matrix[idx+2][idx_2+1]\n",
    "        #P_SuY_SdX = transition_matrix[idx+1][idx_2+2]\n",
    "        P_SuY_SuX = transition_matrix[idx+2][idx_2+2]\n",
    "\n",
    "        #P_SoX_SdY = transition_matrix[idx_2+1][idx]\n",
    "        P_SoX_SuY = transition_matrix[idx_2+2][idx]\n",
    "\n",
    "        #P += P_SdX * P_SdY_SdX * P_SoX_SdY  +  P_SdX * P_SuY_SdX * P_SoX_SuY  +  P_SuX * P_SdY_SuX * P_SoX_SdY  +  P_SuX * P_SuY_SuX * P_SoX_SuY\n",
    "        P_failure masking +=  P_SuX * P_SuY_SuX * P_SoX_SuY\n",
    "\n",
    "print(P_failure_masking)"
   ]
  },
  {
   "cell_type": "markdown",
   "metadata": {},
   "source": [
    "Q: What is the probability of  seeing a systemic degradation?\n",
    "\n",
    "$P = \\sum_{\\text{Components} X,Y; X \\neq Y} P(Sd_X) * P(Sd_Y | Sd_X)$"
   ]
  },
  {
   "cell_type": "code",
   "execution_count": 100,
   "metadata": {},
   "outputs": [
    {
     "name": "stdout",
     "output_type": "stream",
     "text": [
      "0.23401374651152745\n"
     ]
    }
   ],
   "source": [
    "# Question 4\n",
    "#P(S_dX) * P(SdY | SdX)\n",
    "\n",
    "P = 0\n",
    "\n",
    "for idx in range(19):\n",
    "    idx *= 3\n",
    "    P_SdX = steady_state[idx+1]\n",
    "\n",
    "    for idx_2 in range(19):\n",
    "        idx_2 *= 3\n",
    "        if idx_2 == idx:\n",
    "            continue\n",
    "\n",
    "        P_SdY_SdX = transition_matrix[idx+1][idx_2+1]\n",
    "\n",
    "        P += P_SdX * P_SdY_SdX\n",
    "\n",
    "print(P)"
   ]
  },
  {
   "cell_type": "markdown",
   "metadata": {},
   "source": [
    "Q: What is the probability of normal operation?\n",
    "\n",
    "$P = \\sum_{\\text{Component} X} P(So_X)$"
   ]
  },
  {
   "cell_type": "code",
   "execution_count": 101,
   "metadata": {},
   "outputs": [
    {
     "name": "stdout",
     "output_type": "stream",
     "text": [
      "0.3333333333333334\n"
     ]
    }
   ],
   "source": [
    "# Question 5\n",
    "# Sum of P(SoX) for all X\n",
    "\n",
    "P = np.sum(steady_state[np.arange(19)*3])\n",
    "\n",
    "print(P)"
   ]
  },
  {
   "cell_type": "markdown",
   "metadata": {},
   "source": [
    "Q: What is the probability of have, 1, 2, or more intermittent failures?\n",
    "\n",
    "$P = \\sum_{\\text{Component} X}\\sum_{n=1}^{50} P(So_X) * ( (P(Sd_X | So_X) * P(So_X | Sd_X))^n  +  (P(Su_X | So_X) * P(So_X | Su_X))^n)$"
   ]
  },
  {
   "cell_type": "code",
   "execution_count": 102,
   "metadata": {},
   "outputs": [
    {
     "name": "stdout",
     "output_type": "stream",
     "text": [
      "0.008268272564954248\n"
     ]
    }
   ],
   "source": [
    "# Question 6\n",
    "# P(SoX) * ( P(SdX | SoX) * P(SoX | SdX)  +  P(SuX | SoX) * P(SoX | SuX))\n",
    "\n",
    "P = 0\n",
    "for n in range(1,50):\n",
    "    for idx in range(19):\n",
    "        idx *= 3\n",
    "        P_SoX = steady_state[idx]\n",
    "\n",
    "        P_SdX_SoX = transition_matrix[idx][idx+1]\n",
    "        P_SuX_SoX = transition_matrix[idx][idx+2]\n",
    "\n",
    "        P_SoX_SdX = transition_matrix[idx+1][idx]\n",
    "        P_SoX_SuX = transition_matrix[idx+2][idx]\n",
    "\n",
    "        P += P_SoX * (((P_SdX_SoX * P_SoX_SdX) ** n)  +  ((P_SuX_SoX * P_SoX_SuX) ** n))\n",
    "\n",
    "print(P)"
   ]
  },
  {
   "cell_type": "markdown",
   "metadata": {},
   "source": [
    "Q: In the case of an intermittent failure, what is the probability of a failure cascade?\n",
    "\n",
    "$P=0$, because intermittent failure and failure cascade are disjoint events. "
   ]
  },
  {
   "cell_type": "code",
   "execution_count": 103,
   "metadata": {},
   "outputs": [
    {
     "data": {
      "text/plain": [
       "0"
      ]
     },
     "execution_count": 103,
     "metadata": {},
     "output_type": "execute_result"
    }
   ],
   "source": [
    "# Question 7\n",
    "\n",
    "# P = 0, because intermittent failure and failure cascade are disjoint events\n",
    "0"
   ]
  },
  {
   "cell_type": "markdown",
   "metadata": {},
   "source": [
    "Q: In the case of a failure cascade, what is the probability of failure masking? \n",
    "\n",
    "$P(\\text{failure masking} | \\text{failure cascade}) = ( P( \\text{failure cascade} | \\text{failure masking}) * P(\\text{failure masking})) / P(\\text{failure cascade})$  \n",
    "Assumption: $P( \\text{failure cascade} | \\text{failure masking}) = 1$  \n",
    "$P(\\text{failure masking} | \\text{failure cascade}) = (P(\\text{failure masking})) / P(\\text{failure cascade})$\n"
   ]
  },
  {
   "cell_type": "code",
   "execution_count": 92,
   "metadata": {},
   "outputs": [
    {
     "name": "stdout",
     "output_type": "stream",
     "text": [
      "0.0\n"
     ]
    }
   ],
   "source": [
    "# Question 8\n",
    "\n",
    "# P(failure_masking | failure_cascade) = ( P( failure_cascade | failure_masking) * P(failure_masking)) / P(failure_cascade)\n",
    "# Assumption: P( failure_cascade | failure_masking) = 1\n",
    "# P(failure_masking | failure_cascade) = P(failure_masking) / P(failure_cascade)\n",
    "\n",
    "P_failure_cascade = 0 \n",
    "for component in range(19):\n",
    "    P_d_to_u = 0\n",
    "    for idx in range(19):\n",
    "        idx *= 3\n",
    "        P_SoX = steady_state[idx]\n",
    "        P_SdX_SoX = transition_matrix[idx][3*component+1]\n",
    "        P_SuX_SdX = transition_matrix[3+1][3*component+2]\n",
    "        P_SoY_SuX = 0\n",
    "        for idx_2 in range(19):\n",
    "            idx_2 *= 3\n",
    "            P_SoY_SuX += transition_matrix[3*component+2][idx_2]\n",
    "        P_d_to_u += P_SoX * P_SdX_SoX * P_SuX_SdX * P_SoY_SuX\n",
    "\n",
    "    P_u_to_d = 0\n",
    "    for idx in range(19):\n",
    "        idx *= 3\n",
    "        P_SoX = steady_state[idx]\n",
    "        P_SuX_SoX = transition_matrix[idx][3*component+2]\n",
    "        P_SdX_SuX = transition_matrix[3*component+2][3*component+1]\n",
    "        P_SoY_SdX = 0\n",
    "        for idx_2 in range(19):\n",
    "            idx_2 *= 3\n",
    "            P_SoY_SdX += transition_matrix[3*component+1][idx_2]\n",
    "        P_u_to_d += P_SoX * P_SuX_SoX * P_SdX_SuX * P_SoY_SdX\n",
    "\n",
    "    P_cascade_only_in_component_2 = P_d_to_u + P_u_to_d\n",
    "\n",
    "    # Cascade from any component to component 2:\n",
    "    P_X_to_2 = 0\n",
    "    for idx in range(19):\n",
    "        if idx == component:\n",
    "            continue\n",
    "        idx *= 3\n",
    "        # P(SdX) * P(Sd2 | SdX) + P(SuX) * P(Sd2 | SuX) + P(SdX) * P(Su2 | SdX) + P(SuX) * P(Su2 | SuX)\n",
    "        P_Sd2_SdX = steady_state[idx+1] * transition_matrix[idx+1][3*component+1]\n",
    "        P_Su2_SdX = steady_state[idx+1] * transition_matrix[idx+1][3*component+2]\n",
    "        P_Sd2_SuX = steady_state[idx+2] * transition_matrix[idx+2][3*component+1]\n",
    "        P_Su2_SuX = steady_state[idx+2] * transition_matrix[idx+2][3*component+2]\n",
    "\n",
    "        P_X_to_2 += P_Sd2_SdX + P_Su2_SdX + P_Sd2_SuX + P_Su2_SuX\n",
    "\n",
    "    # Cascade fomr component 2 to any other component\n",
    "\n",
    "    P_2_to_X = 0\n",
    "\n",
    "    for idx in range(19):\n",
    "        if idx == component:\n",
    "            continue\n",
    "        idx *= 3\n",
    "        # P(SoX) * P(Sd2 | SoX) * (P(SdY | Sd2) + P(SuY | Sd2)) + \n",
    "        # P(SoX) * P(Su2 | SoX) * (P(SdY | Su2) + P(SuY | Su2)) + \n",
    "        # P(SoX) * P(Su2 | SoX) + P(Sd2 | Su2) * (P(SdY | Sd2) + P(SuY | Sd2)) + \n",
    "        # P(SoX) * P(Sd2 | SoX) + P(Su2 | Sd2) * (P(SdY | Su2) + P(SuY | Su2)) + \n",
    "        P_SoX = steady_state[idx]\n",
    "        P_Sd2_SoX = transition_matrix[idx][3*component+1]\n",
    "        P_Su2_SoX = transition_matrix[idx][3*component+2]\n",
    "        P_Su2_Sd2 = transition_matrix[3*component+1][3*component+2]\n",
    "        P_Sd2_Su2 = transition_matrix[3*component+2][3*component+1]\n",
    "        P_SfY_Sd2 = 0\n",
    "        P_SfY_Su2 = 0\n",
    "        for idx_2 in range(19):\n",
    "            if idx_2 == component:\n",
    "                continue\n",
    "            idx_2 *= 3\n",
    "            P_SfY_Sd2 += transition_matrix[3*component+1][idx_2+1] + transition_matrix[3*component+1][idx_2+2]\n",
    "            P_SfY_Su2 += transition_matrix[3*component+2][idx_2+1] + transition_matrix[3*component+2][idx_2+2]\n",
    "\n",
    "        P_2_to_X += P_SoX * P_Sd2_SoX * P_SfY_Sd2  +  P_SoX * P_Su2_SoX * P_SfY_Su2  +  P_SoX * P_Su2_SoX * P_Sd2_Su2 * P_SfY_Sd2  +  P_SoX * P_Sd2_SoX * P_Su2_Sd2 * P_SfY_Su2\n",
    "\n",
    "    P_failure_cascade += P_cascade_only_in_component_2 + P_X_to_2 + P_2_to_X\n",
    "\n",
    "P_fm_fc = P_failure_masking / P_failure_cascade\n",
    "\n",
    "print(P_fm_fc)\n"
   ]
  }
 ],
 "metadata": {
  "kernelspec": {
   "display_name": "Python 3.9.14 64-bit",
   "language": "python",
   "name": "python3"
  },
  "language_info": {
   "codemirror_mode": {
    "name": "ipython",
    "version": 3
   },
   "file_extension": ".py",
   "mimetype": "text/x-python",
   "name": "python",
   "nbconvert_exporter": "python",
   "pygments_lexer": "ipython3",
   "version": "3.9.14 (main, Sep  6 2022, 23:16:16) \n[Clang 13.1.6 (clang-1316.0.21.2.5)]"
  },
  "orig_nbformat": 4,
  "vscode": {
   "interpreter": {
    "hash": "a665b5d41d17b532ea9890333293a1b812fa0b73c9c25c950b3cedf1bebd0438"
   }
  }
 },
 "nbformat": 4,
 "nbformat_minor": 2
}
